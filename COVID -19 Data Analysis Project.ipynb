{
 "cells": [
  {
   "cell_type": "code",
   "execution_count": 1,
   "id": "86f4587b",
   "metadata": {},
   "outputs": [],
   "source": [
    "import numpy as np\n",
    "import pandas as pd\n",
    "import seaborn as sns\n",
    "import matplotlib.pyplot as plt\n",
    "%matplotlib inline\n",
    "from numpy.random import randn\n",
    "np.random.seed(123)"
   ]
  },
  {
   "cell_type": "code",
   "execution_count": 2,
   "id": "4184f409",
   "metadata": {},
   "outputs": [],
   "source": [
    "df_covid =  pd.read_csv('https://raw.githubusercontent.com/nytimes/covid-19-data/master/us-counties.csv', error_bad_lines=False)"
   ]
  },
  {
   "cell_type": "code",
   "execution_count": 3,
   "id": "88221d53",
   "metadata": {},
   "outputs": [
    {
     "data": {
      "text/html": [
       "<div>\n",
       "<style scoped>\n",
       "    .dataframe tbody tr th:only-of-type {\n",
       "        vertical-align: middle;\n",
       "    }\n",
       "\n",
       "    .dataframe tbody tr th {\n",
       "        vertical-align: top;\n",
       "    }\n",
       "\n",
       "    .dataframe thead th {\n",
       "        text-align: right;\n",
       "    }\n",
       "</style>\n",
       "<table border=\"1\" class=\"dataframe\">\n",
       "  <thead>\n",
       "    <tr style=\"text-align: right;\">\n",
       "      <th></th>\n",
       "      <th>date</th>\n",
       "      <th>county</th>\n",
       "      <th>state</th>\n",
       "      <th>fips</th>\n",
       "      <th>cases</th>\n",
       "      <th>deaths</th>\n",
       "    </tr>\n",
       "  </thead>\n",
       "  <tbody>\n",
       "    <tr>\n",
       "      <th>0</th>\n",
       "      <td>2020-01-21</td>\n",
       "      <td>Snohomish</td>\n",
       "      <td>Washington</td>\n",
       "      <td>53061.0</td>\n",
       "      <td>1</td>\n",
       "      <td>0.0</td>\n",
       "    </tr>\n",
       "    <tr>\n",
       "      <th>1</th>\n",
       "      <td>2020-01-22</td>\n",
       "      <td>Snohomish</td>\n",
       "      <td>Washington</td>\n",
       "      <td>53061.0</td>\n",
       "      <td>1</td>\n",
       "      <td>0.0</td>\n",
       "    </tr>\n",
       "    <tr>\n",
       "      <th>2</th>\n",
       "      <td>2020-01-23</td>\n",
       "      <td>Snohomish</td>\n",
       "      <td>Washington</td>\n",
       "      <td>53061.0</td>\n",
       "      <td>1</td>\n",
       "      <td>0.0</td>\n",
       "    </tr>\n",
       "    <tr>\n",
       "      <th>3</th>\n",
       "      <td>2020-01-24</td>\n",
       "      <td>Cook</td>\n",
       "      <td>Illinois</td>\n",
       "      <td>17031.0</td>\n",
       "      <td>1</td>\n",
       "      <td>0.0</td>\n",
       "    </tr>\n",
       "    <tr>\n",
       "      <th>4</th>\n",
       "      <td>2020-01-24</td>\n",
       "      <td>Snohomish</td>\n",
       "      <td>Washington</td>\n",
       "      <td>53061.0</td>\n",
       "      <td>1</td>\n",
       "      <td>0.0</td>\n",
       "    </tr>\n",
       "    <tr>\n",
       "      <th>5</th>\n",
       "      <td>2020-01-25</td>\n",
       "      <td>Orange</td>\n",
       "      <td>California</td>\n",
       "      <td>6059.0</td>\n",
       "      <td>1</td>\n",
       "      <td>0.0</td>\n",
       "    </tr>\n",
       "    <tr>\n",
       "      <th>6</th>\n",
       "      <td>2020-01-25</td>\n",
       "      <td>Cook</td>\n",
       "      <td>Illinois</td>\n",
       "      <td>17031.0</td>\n",
       "      <td>1</td>\n",
       "      <td>0.0</td>\n",
       "    </tr>\n",
       "    <tr>\n",
       "      <th>7</th>\n",
       "      <td>2020-01-25</td>\n",
       "      <td>Snohomish</td>\n",
       "      <td>Washington</td>\n",
       "      <td>53061.0</td>\n",
       "      <td>1</td>\n",
       "      <td>0.0</td>\n",
       "    </tr>\n",
       "    <tr>\n",
       "      <th>8</th>\n",
       "      <td>2020-01-26</td>\n",
       "      <td>Maricopa</td>\n",
       "      <td>Arizona</td>\n",
       "      <td>4013.0</td>\n",
       "      <td>1</td>\n",
       "      <td>0.0</td>\n",
       "    </tr>\n",
       "    <tr>\n",
       "      <th>9</th>\n",
       "      <td>2020-01-26</td>\n",
       "      <td>Los Angeles</td>\n",
       "      <td>California</td>\n",
       "      <td>6037.0</td>\n",
       "      <td>1</td>\n",
       "      <td>0.0</td>\n",
       "    </tr>\n",
       "  </tbody>\n",
       "</table>\n",
       "</div>"
      ],
      "text/plain": [
       "         date       county       state     fips  cases  deaths\n",
       "0  2020-01-21    Snohomish  Washington  53061.0      1     0.0\n",
       "1  2020-01-22    Snohomish  Washington  53061.0      1     0.0\n",
       "2  2020-01-23    Snohomish  Washington  53061.0      1     0.0\n",
       "3  2020-01-24         Cook    Illinois  17031.0      1     0.0\n",
       "4  2020-01-24    Snohomish  Washington  53061.0      1     0.0\n",
       "5  2020-01-25       Orange  California   6059.0      1     0.0\n",
       "6  2020-01-25         Cook    Illinois  17031.0      1     0.0\n",
       "7  2020-01-25    Snohomish  Washington  53061.0      1     0.0\n",
       "8  2020-01-26     Maricopa     Arizona   4013.0      1     0.0\n",
       "9  2020-01-26  Los Angeles  California   6037.0      1     0.0"
      ]
     },
     "execution_count": 3,
     "metadata": {},
     "output_type": "execute_result"
    }
   ],
   "source": [
    "df_covid.head(10)"
   ]
  },
  {
   "cell_type": "code",
   "execution_count": 4,
   "id": "5da5da04",
   "metadata": {},
   "outputs": [
    {
     "data": {
      "text/plain": [
       "Index(['date', 'county', 'state', 'fips', 'cases', 'deaths'], dtype='object')"
      ]
     },
     "execution_count": 4,
     "metadata": {},
     "output_type": "execute_result"
    }
   ],
   "source": [
    "df_covid.columns"
   ]
  },
  {
   "cell_type": "code",
   "execution_count": 5,
   "id": "45b03702",
   "metadata": {},
   "outputs": [
    {
     "data": {
      "text/plain": [
       "date       object\n",
       "county     object\n",
       "state      object\n",
       "fips      float64\n",
       "cases       int64\n",
       "deaths    float64\n",
       "dtype: object"
      ]
     },
     "execution_count": 5,
     "metadata": {},
     "output_type": "execute_result"
    }
   ],
   "source": [
    "df_covid.dtypes"
   ]
  },
  {
   "cell_type": "code",
   "execution_count": 6,
   "id": "4c5e8c1f",
   "metadata": {},
   "outputs": [
    {
     "data": {
      "text/plain": [
       "False"
      ]
     },
     "execution_count": 6,
     "metadata": {},
     "output_type": "execute_result"
    }
   ],
   "source": [
    "df_covid['fips'].is_unique"
   ]
  },
  {
   "cell_type": "code",
   "execution_count": 7,
   "id": "65996da9",
   "metadata": {
    "scrolled": true
   },
   "outputs": [],
   "source": [
    "df_covid.drop('fips', axis = 1, inplace=True)"
   ]
  },
  {
   "cell_type": "code",
   "execution_count": 8,
   "id": "75546ee2",
   "metadata": {},
   "outputs": [
    {
     "data": {
      "text/html": [
       "<div>\n",
       "<style scoped>\n",
       "    .dataframe tbody tr th:only-of-type {\n",
       "        vertical-align: middle;\n",
       "    }\n",
       "\n",
       "    .dataframe tbody tr th {\n",
       "        vertical-align: top;\n",
       "    }\n",
       "\n",
       "    .dataframe thead th {\n",
       "        text-align: right;\n",
       "    }\n",
       "</style>\n",
       "<table border=\"1\" class=\"dataframe\">\n",
       "  <thead>\n",
       "    <tr style=\"text-align: right;\">\n",
       "      <th></th>\n",
       "      <th>date</th>\n",
       "      <th>county</th>\n",
       "      <th>state</th>\n",
       "      <th>cases</th>\n",
       "      <th>deaths</th>\n",
       "    </tr>\n",
       "  </thead>\n",
       "  <tbody>\n",
       "    <tr>\n",
       "      <th>0</th>\n",
       "      <td>2020-01-21</td>\n",
       "      <td>Snohomish</td>\n",
       "      <td>Washington</td>\n",
       "      <td>1</td>\n",
       "      <td>0.0</td>\n",
       "    </tr>\n",
       "    <tr>\n",
       "      <th>1</th>\n",
       "      <td>2020-01-22</td>\n",
       "      <td>Snohomish</td>\n",
       "      <td>Washington</td>\n",
       "      <td>1</td>\n",
       "      <td>0.0</td>\n",
       "    </tr>\n",
       "    <tr>\n",
       "      <th>2</th>\n",
       "      <td>2020-01-23</td>\n",
       "      <td>Snohomish</td>\n",
       "      <td>Washington</td>\n",
       "      <td>1</td>\n",
       "      <td>0.0</td>\n",
       "    </tr>\n",
       "    <tr>\n",
       "      <th>3</th>\n",
       "      <td>2020-01-24</td>\n",
       "      <td>Cook</td>\n",
       "      <td>Illinois</td>\n",
       "      <td>1</td>\n",
       "      <td>0.0</td>\n",
       "    </tr>\n",
       "    <tr>\n",
       "      <th>4</th>\n",
       "      <td>2020-01-24</td>\n",
       "      <td>Snohomish</td>\n",
       "      <td>Washington</td>\n",
       "      <td>1</td>\n",
       "      <td>0.0</td>\n",
       "    </tr>\n",
       "    <tr>\n",
       "      <th>...</th>\n",
       "      <td>...</td>\n",
       "      <td>...</td>\n",
       "      <td>...</td>\n",
       "      <td>...</td>\n",
       "      <td>...</td>\n",
       "    </tr>\n",
       "    <tr>\n",
       "      <th>1650924</th>\n",
       "      <td>2021-08-24</td>\n",
       "      <td>Sweetwater</td>\n",
       "      <td>Wyoming</td>\n",
       "      <td>5345</td>\n",
       "      <td>49.0</td>\n",
       "    </tr>\n",
       "    <tr>\n",
       "      <th>1650925</th>\n",
       "      <td>2021-08-24</td>\n",
       "      <td>Teton</td>\n",
       "      <td>Wyoming</td>\n",
       "      <td>4265</td>\n",
       "      <td>11.0</td>\n",
       "    </tr>\n",
       "    <tr>\n",
       "      <th>1650926</th>\n",
       "      <td>2021-08-24</td>\n",
       "      <td>Uinta</td>\n",
       "      <td>Wyoming</td>\n",
       "      <td>2810</td>\n",
       "      <td>14.0</td>\n",
       "    </tr>\n",
       "    <tr>\n",
       "      <th>1650927</th>\n",
       "      <td>2021-08-24</td>\n",
       "      <td>Washakie</td>\n",
       "      <td>Wyoming</td>\n",
       "      <td>996</td>\n",
       "      <td>26.0</td>\n",
       "    </tr>\n",
       "    <tr>\n",
       "      <th>1650928</th>\n",
       "      <td>2021-08-24</td>\n",
       "      <td>Weston</td>\n",
       "      <td>Wyoming</td>\n",
       "      <td>757</td>\n",
       "      <td>6.0</td>\n",
       "    </tr>\n",
       "  </tbody>\n",
       "</table>\n",
       "<p>1650929 rows × 5 columns</p>\n",
       "</div>"
      ],
      "text/plain": [
       "               date      county       state  cases  deaths\n",
       "0        2020-01-21   Snohomish  Washington      1     0.0\n",
       "1        2020-01-22   Snohomish  Washington      1     0.0\n",
       "2        2020-01-23   Snohomish  Washington      1     0.0\n",
       "3        2020-01-24        Cook    Illinois      1     0.0\n",
       "4        2020-01-24   Snohomish  Washington      1     0.0\n",
       "...             ...         ...         ...    ...     ...\n",
       "1650924  2021-08-24  Sweetwater     Wyoming   5345    49.0\n",
       "1650925  2021-08-24       Teton     Wyoming   4265    11.0\n",
       "1650926  2021-08-24       Uinta     Wyoming   2810    14.0\n",
       "1650927  2021-08-24    Washakie     Wyoming    996    26.0\n",
       "1650928  2021-08-24      Weston     Wyoming    757     6.0\n",
       "\n",
       "[1650929 rows x 5 columns]"
      ]
     },
     "execution_count": 8,
     "metadata": {},
     "output_type": "execute_result"
    }
   ],
   "source": [
    "df_covid"
   ]
  },
  {
   "cell_type": "code",
   "execution_count": 9,
   "id": "c66a6aa3",
   "metadata": {},
   "outputs": [
    {
     "data": {
      "text/plain": [
       "state\n",
       "Alabama                      1623.0\n",
       "Alaska                        204.0\n",
       "Arizona                     10694.0\n",
       "Arkansas                      786.0\n",
       "California                  25114.0\n",
       "Colorado                      932.0\n",
       "Connecticut                  2455.0\n",
       "Delaware                      921.0\n",
       "District of Columbia         1155.0\n",
       "Florida                      6472.0\n",
       "Georgia                      1516.0\n",
       "Guam                          146.0\n",
       "Hawaii                        434.0\n",
       "Idaho                         506.0\n",
       "Illinois                    11245.0\n",
       "Indiana                      1920.0\n",
       "Iowa                          651.0\n",
       "Kansas                       1107.0\n",
       "Kentucky                     1386.0\n",
       "Louisiana                    1007.0\n",
       "Maine                         209.0\n",
       "Maryland                     1709.0\n",
       "Massachusetts                3808.0\n",
       "Michigan                     5252.0\n",
       "Minnesota                    1827.0\n",
       "Mississippi                   515.0\n",
       "Missouri                     2364.0\n",
       "Montana                       290.0\n",
       "Nebraska                      743.0\n",
       "Nevada                       5090.0\n",
       "New Hampshire                 654.0\n",
       "New Jersey                   3061.0\n",
       "New Mexico                    996.0\n",
       "New York                    33744.0\n",
       "North Carolina               1019.0\n",
       "North Dakota                  218.0\n",
       "Northern Mariana Islands        2.0\n",
       "Ohio                         2280.0\n",
       "Oklahoma                     1346.0\n",
       "Oregon                        642.0\n",
       "Pennsylvania                 3809.0\n",
       "Puerto Rico                  2758.0\n",
       "Rhode Island                 2012.0\n",
       "South Carolina               1067.0\n",
       "South Dakota                  366.0\n",
       "Tennessee                    1834.0\n",
       "Texas                        7014.0\n",
       "Utah                          986.0\n",
       "Vermont                       109.0\n",
       "Virgin Islands                 25.0\n",
       "Virginia                     1130.0\n",
       "Washington                   1734.0\n",
       "West Virginia                 367.0\n",
       "Wisconsin                    1470.0\n",
       "Wyoming                       148.0\n",
       "Name: deaths, dtype: float64"
      ]
     },
     "execution_count": 9,
     "metadata": {},
     "output_type": "execute_result"
    }
   ],
   "source": [
    "df_covid.groupby(['state'])['deaths'].max()"
   ]
  },
  {
   "cell_type": "code",
   "execution_count": 96,
   "id": "bc7cb8d8",
   "metadata": {},
   "outputs": [],
   "source": [
    "recent_NYdata = df_covid.query('county == \"New York City\" and state == \"New York\"').tail(30)"
   ]
  },
  {
   "cell_type": "code",
   "execution_count": 97,
   "id": "d3f9715f",
   "metadata": {
    "scrolled": true
   },
   "outputs": [
    {
     "name": "stdout",
     "output_type": "stream",
     "text": [
      "               date         county     state    cases   deaths\n",
      "1555348  2021-07-26  New York City  New York   969316  33512.0\n",
      "1558595  2021-07-27  New York City  New York   970189  33512.0\n",
      "1561843  2021-07-28  New York City  New York   971044  33519.0\n",
      "1565091  2021-07-29  New York City  New York   972514  33521.0\n",
      "1568339  2021-07-30  New York City  New York   973870  33527.0\n",
      "1571587  2021-07-31  New York City  New York   975638  33534.0\n",
      "1574835  2021-08-01  New York City  New York   976974  33538.0\n",
      "1578083  2021-08-02  New York City  New York   978241  33545.0\n",
      "1581332  2021-08-03  New York City  New York   979815  33557.0\n",
      "1584582  2021-08-04  New York City  New York   981123  33559.0\n",
      "1587832  2021-08-05  New York City  New York   982876  33570.0\n",
      "1591081  2021-08-06  New York City  New York   984871  33571.0\n",
      "1594330  2021-08-07  New York City  New York   986967  33578.0\n",
      "1597579  2021-08-08  New York City  New York   988831  33588.0\n",
      "1600827  2021-08-09  New York City  New York   988831  33588.0\n",
      "1604076  2021-08-10  New York City  New York   988831  33588.0\n",
      "1607325  2021-08-11  New York City  New York   993864  33618.0\n",
      "1610573  2021-08-12  New York City  New York   996290  33636.0\n",
      "1613822  2021-08-13  New York City  New York   998350  33639.0\n",
      "1617070  2021-08-14  New York City  New York  1000703  33645.0\n",
      "1620318  2021-08-15  New York City  New York  1002520  33657.0\n",
      "1623565  2021-08-16  New York City  New York  1004659  33661.0\n",
      "1626812  2021-08-17  New York City  New York  1006142  33684.0\n",
      "1630059  2021-08-18  New York City  New York  1007992  33684.0\n",
      "1633306  2021-08-19  New York City  New York  1010304  33690.0\n",
      "1636556  2021-08-20  New York City  New York  1011428  33694.0\n",
      "1639806  2021-08-21  New York City  New York  1014697  33720.0\n",
      "1643056  2021-08-22  New York City  New York  1016792  33723.0\n",
      "1646305  2021-08-23  New York City  New York  1018334  33736.0\n",
      "1649554  2021-08-24  New York City  New York  1020062  33744.0\n"
     ]
    }
   ],
   "source": [
    "print(recent_NYdata)"
   ]
  },
  {
   "cell_type": "code",
   "execution_count": 38,
   "id": "140429fa",
   "metadata": {},
   "outputs": [
    {
     "data": {
      "text/plain": [
       "cases     992402.266667\n",
       "deaths     33611.266667\n",
       "dtype: float64"
      ]
     },
     "execution_count": 38,
     "metadata": {},
     "output_type": "execute_result"
    }
   ],
   "source": [
    "(recent_NYdata).mean()"
   ]
  },
  {
   "cell_type": "code",
   "execution_count": 39,
   "id": "0e6a3bec",
   "metadata": {},
   "outputs": [
    {
     "data": {
      "text/plain": [
       "cases     988831.0\n",
       "deaths     33588.0\n",
       "dtype: float64"
      ]
     },
     "execution_count": 39,
     "metadata": {},
     "output_type": "execute_result"
    }
   ],
   "source": [
    "(recent_NYdata).median()"
   ]
  },
  {
   "cell_type": "code",
   "execution_count": 55,
   "id": "c820b505",
   "metadata": {},
   "outputs": [
    {
     "data": {
      "text/plain": [
       "<AxesSubplot:xlabel='deaths', ylabel='cases'>"
      ]
     },
     "execution_count": 55,
     "metadata": {},
     "output_type": "execute_result"
    },
    {
     "data": {
      "image/png": "[encoded data removed]",
      "text/plain": [
       "<Figure size 432x288 with 1 Axes>"
      ]
     },
     "metadata": {
      "needs_background": "light"
     },
     "output_type": "display_data"
    }
   ],
   "source": [
    "(recent_NYdata).plot(kind = \"scatter\", y = 'cases', x = 'deaths')"
   ]
  },
  {
   "cell_type": "code",
   "execution_count": 101,
   "id": "8d042ddd",
   "metadata": {},
   "outputs": [],
   "source": [
    "recent_CAdata = df_covid.query('county == \"Los Angeles\" and state == \"California\"').tail(30)"
   ]
  },
  {
   "cell_type": "code",
   "execution_count": 102,
   "id": "5d357aba",
   "metadata": {},
   "outputs": [
    {
     "name": "stdout",
     "output_type": "stream",
     "text": [
      "               date       county       state    cases   deaths\n",
      "1553679  2021-07-26  Los Angeles  California  1286456  24643.0\n",
      "1556926  2021-07-27  Los Angeles  California  1288516  24647.0\n",
      "1560173  2021-07-28  Los Angeles  California  1290911  24658.0\n",
      "1563421  2021-07-29  Los Angeles  California  1294135  24675.0\n",
      "1566669  2021-07-30  Los Angeles  California  1297728  24691.0\n",
      "1569917  2021-07-31  Los Angeles  California  1301009  24691.0\n",
      "1573165  2021-08-01  Los Angeles  California  1304039  24691.0\n",
      "1576413  2021-08-02  Los Angeles  California  1306400  24700.0\n",
      "1579661  2021-08-03  Los Angeles  California  1308666  24705.0\n",
      "1582911  2021-08-04  Los Angeles  California  1312352  24721.0\n",
      "1586161  2021-08-05  Los Angeles  California  1316009  24739.0\n",
      "1589410  2021-08-06  Los Angeles  California  1319913  24756.0\n",
      "1592659  2021-08-07  Los Angeles  California  1324042  24769.0\n",
      "1595908  2021-08-08  Los Angeles  California  1327058  24786.0\n",
      "1599157  2021-08-09  Los Angeles  California  1329959  24793.0\n",
      "1602406  2021-08-10  Los Angeles  California  1332556  24805.0\n",
      "1605655  2021-08-11  Los Angeles  California  1336029  24833.0\n",
      "1608904  2021-08-12  Los Angeles  California  1339835  24854.0\n",
      "1612152  2021-08-13  Los Angeles  California  1343533  24874.0\n",
      "1615401  2021-08-14  Los Angeles  California  1347717  24892.0\n",
      "1618649  2021-08-15  Los Angeles  California  1351064  24911.0\n",
      "1621896  2021-08-16  Los Angeles  California  1353485  24918.0\n",
      "1625143  2021-08-17  Los Angeles  California  1356392  24935.0\n",
      "1628390  2021-08-18  Los Angeles  California  1360366  24967.0\n",
      "1631637  2021-08-19  Los Angeles  California  1363550  25002.0\n",
      "1634886  2021-08-20  Los Angeles  California  1377253  25032.0\n",
      "1638136  2021-08-21  Los Angeles  California  1381117  25061.0\n",
      "1641386  2021-08-22  Los Angeles  California  1383888  25080.0\n",
      "1644636  2021-08-23  Los Angeles  California  1386207  25089.0\n",
      "1647884  2021-08-24  Los Angeles  California  1388847  25114.0\n"
     ]
    }
   ],
   "source": [
    "print(recent_CAdata)"
   ]
  },
  {
   "cell_type": "code",
   "execution_count": 103,
   "id": "b8994410",
   "metadata": {},
   "outputs": [
    {
     "data": {
      "text/plain": [
       "<AxesSubplot:xlabel='deaths', ylabel='cases'>"
      ]
     },
     "execution_count": 103,
     "metadata": {},
     "output_type": "execute_result"
    },
    {
     "data": {
      "image/png": "[encoded data removed]",
      "text/plain": [
       "<Figure size 432x288 with 1 Axes>"
      ]
     },
     "metadata": {
      "needs_background": "light"
     },
     "output_type": "display_data"
    }
   ],
   "source": [
    "(recent_CAdata).plot(kind = \"scatter\", y = 'cases', x = 'deaths')"
   ]
  },
  {
   "cell_type": "code",
   "execution_count": 81,
   "id": "fc6398af",
   "metadata": {},
   "outputs": [
    {
     "data": {
      "text/plain": [
       "<AxesSubplot:xlabel='state'>"
      ]
     },
     "execution_count": 81,
     "metadata": {},
     "output_type": "execute_result"
    },
    {
     "data": {
      "image/png": "[encoded data removed]",
      "text/plain": [
       "<Figure size 432x288 with 1 Axes>"
      ]
     },
     "metadata": {
      "needs_background": "light"
     },
     "output_type": "display_data"
    }
   ],
   "source": [
    "recent_statedata.plot()"
   ]
  }
 ],
 "metadata": {
  "kernelspec": {
   "display_name": "Python 3",
   "language": "python",
   "name": "python3"
  },
  "language_info": {
   "codemirror_mode": {
    "name": "ipython",
    "version": 3
   },
   "file_extension": ".py",
   "mimetype": "text/x-python",
   "name": "python",
   "nbconvert_exporter": "python",
   "pygments_lexer": "ipython3",
   "version": "3.8.8"
  }
 },
 "nbformat": 4,
 "nbformat_minor": 5
}
